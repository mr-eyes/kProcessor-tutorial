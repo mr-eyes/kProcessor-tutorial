{
 "cells": [
  {
   "cell_type": "markdown",
   "id": "circular-police",
   "metadata": {},
   "source": [
    "# Kmer Counting Example"
   ]
  },
  {
   "cell_type": "code",
   "execution_count": null,
   "id": "unsigned-wagner",
   "metadata": {},
   "outputs": [],
   "source": [
    "import kProcessor as kp\n",
    "from helper_functions import *"
   ]
  },
  {
   "cell_type": "markdown",
   "id": "fallen-relative",
   "metadata": {},
   "source": [
    "### Initializing kDataFrame"
   ]
  },
  {
   "cell_type": "code",
   "execution_count": null,
   "id": "metallic-truck",
   "metadata": {},
   "outputs": [],
   "source": [
    "kSize = 21\n",
    "kf = kp.kDataFrameMQF(kSize)"
   ]
  },
  {
   "cell_type": "markdown",
   "id": "amber-witness",
   "metadata": {},
   "source": [
    "### Load a Fasta file in a kDataFrame"
   ]
  },
  {
   "cell_type": "code",
   "execution_count": null,
   "id": "acknowledged-district",
   "metadata": {},
   "outputs": [],
   "source": [
    "# Set paramerts\n",
    "chunk_size = 10\n",
    "fasta_file = \"data/seqs.fa\"\n",
    "kmers_mode = 1 # kmers\n",
    "skipmers_mode = 2\n",
    "minimzers_mode = 3\n",
    "protein_mode = 4\n"
   ]
  },
  {
   "cell_type": "code",
   "execution_count": null,
   "id": "different-carnival",
   "metadata": {},
   "outputs": [],
   "source": [
    "# Counting kmers from fasta file (inplace, aka pass by reference)\n",
    "kp.countKmersFromFile(kf, {\"k_size\" : kSize, \"mode\" : kmers_mode}, fasta_file, chunk_size)"
   ]
  },
  {
   "cell_type": "code",
   "execution_count": null,
   "id": "corresponding-advertising",
   "metadata": {},
   "outputs": [],
   "source": [
    "for kmer, count in KF_iter(kf):\n",
    "    print(f\"{kmer}: {count}\")"
   ]
  }
 ],
 "metadata": {
  "kernelspec": {
   "display_name": "Python 3",
   "language": "python",
   "name": "python3"
  },
  "language_info": {
   "codemirror_mode": {
    "name": "ipython",
    "version": 3
   },
   "file_extension": ".py",
   "mimetype": "text/x-python",
   "name": "python",
   "nbconvert_exporter": "python",
   "pygments_lexer": "ipython3",
   "version": "3.9.1"
  }
 },
 "nbformat": 4,
 "nbformat_minor": 5
}
