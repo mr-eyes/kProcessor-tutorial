{
 "cells": [
  {
   "cell_type": "markdown",
   "id": "progressive-retail",
   "metadata": {},
   "source": [
    "# Kmer Counting Example"
   ]
  },
  {
   "cell_type": "code",
   "execution_count": 1,
   "id": "annoying-discrimination",
   "metadata": {},
   "outputs": [],
   "source": [
    "import kProcessor as kp\n",
    "from helper_functions import *"
   ]
  },
  {
   "cell_type": "markdown",
   "id": "fuzzy-pressure",
   "metadata": {},
   "source": [
    "### Initializing kDataFrame"
   ]
  },
  {
   "cell_type": "code",
   "execution_count": 2,
   "id": "guided-ethernet",
   "metadata": {},
   "outputs": [],
   "source": [
    "kSize = 21\n",
    "kf = kp.kDataFrameMQF(kSize)"
   ]
  },
  {
   "cell_type": "markdown",
   "id": "silent-liquid",
   "metadata": {},
   "source": [
    "### Load a Fasta file in a kDataFrame"
   ]
  },
  {
   "cell_type": "code",
   "execution_count": 7,
   "id": "chief-gambling",
   "metadata": {},
   "outputs": [],
   "source": [
    "# Set paramerts\n",
    "chunk_size = 10\n",
    "fasta_file = \"data/seqs.fa\"\n",
    "parsing_mode = \"kmers\" # {skipmers, minimzers}"
   ]
  },
  {
   "cell_type": "code",
   "execution_count": 8,
   "id": "automotive-database",
   "metadata": {},
   "outputs": [],
   "source": [
    "# Counting kmers from fasta file (inplace, aka pass by reference)\n",
    "kp.countKmersFromFile(kf, {\"k_size\" : kSize}, fasta_file, chunk_size)"
   ]
  },
  {
   "cell_type": "code",
   "execution_count": 6,
   "id": "separated-criminal",
   "metadata": {},
   "outputs": [
    {
     "name": "stdout",
     "output_type": "stream",
     "text": [
      "CAGTCAGTAATGCGCGCAAAA: 1\n",
      "TGGGCGCGGCGCCCCCCCCCC: 1\n",
      "ACTACGATCTGCACTAGTCAC: 1\n",
      "ACCCCGTGTAGTGTGCTAGCT: 1\n",
      "AAAAAAAAAACGTACGATCGG: 1\n",
      "CGATCGATATAACGCGCGCGC: 1\n",
      "ATATATGGGCGCGGCGCCCCC: 1\n",
      "ACTAAAAAAAAAACGTACGAT: 1\n",
      "TACGATCGATATAACGCGCGC: 1\n",
      "CGCGCGCGCGTTATATCGATC: 1\n",
      "GCTACGATCGATATAACGCGC: 1\n",
      "CTACGATCGATATAACGCGCG: 1\n",
      "GATCTGCACTAGTCACTAATC: 1\n",
      "TTATATATGGGCGCGGCGCCC: 1\n",
      "CTAAAAAAAAAACGTACGATC: 1\n",
      "CTCGTCAGTCAGTAATGCGCG: 1\n",
      "AAAAAACGTACGATCGGGGGC: 1\n",
      "TACGATCTGCACTAGTCACTA: 1\n",
      "TACGATGCGAGCTCGTAGCTA: 1\n",
      "CCCCGTGTAGTGTGCTAGCTA: 1\n",
      "TACGAGCTCGCATCGTACGTA: 1\n",
      "ACTAGCTAGCACACTACACGG: 1\n",
      "AACTAGCTACGATCGATATAA: 1\n",
      "ACGTACGTACGATGCGAGCTC: 1\n",
      "ATTAGTGACTAGTGCAGATCG: 1\n",
      "CTGACCCCGTGTAGTGTGCTA: 1\n",
      "CTGACTGACGAGCCATACGTA: 1\n",
      "ATCTGCACTAGTCACTAATCG: 1\n",
      "CATAAAAAACTAGCTACGATC: 1\n",
      "TAGCTACGATCGATATAACGC: 1\n",
      "AGCACACTACACGGGGTCAGC: 1\n",
      "GCTCGTCAGTCAGTAATGCGC: 2\n",
      "CGTATGGCTCGTCAGTCAGTA: 1\n",
      "AGCTACGAGCTCGCATCGTAC: 1\n",
      "CGTCAGTCAGTAATGCGCGCA: 1\n",
      "AAAAAACTAGCTACGATCGAT: 1\n",
      "AAAAACTAGCTACGATCGATA: 1\n",
      "CGATCGTACGTTTTTTTTTTA: 1\n",
      "ATGGCTCGTCAGTCAGTAATG: 1\n",
      "CGTACGATGCGAGCTCGTAGC: 1\n",
      "ATCGATTAGTGACTAGTGCAG: 1\n",
      "TACTACGATCTGCACTAGTCA: 1\n",
      "ATGGGCGCGGCGCCCCCCCCC: 1\n",
      "ATTACTGACTGACGAGCCATA: 1\n",
      "TCGTCAGTCAGTAATGCGCGC: 1\n",
      "AGGGGGGGGGGCGCCGCGCCC: 1\n",
      "AAAAAAACGTACGATCGGGGG: 1\n",
      "ACGATCTGCACTAGTCACTAA: 1\n",
      "CACACTACACGGGGTCAGCAC: 1\n",
      "AGTGACTAGTGCAGATCGTAG: 1\n",
      "TATATGGGCGCGGCGCCCCCC: 1\n",
      "ACTGACTGACGAGCCATACGT: 1\n",
      "ACGTACGATGCGAGCTCGTAG: 1\n",
      "AAAAAAAACGTACGATCGGGG: 1\n",
      "CGAGCTCGCATCGTACGTACG: 1\n",
      "TTTATATATGGGCGCGGCGCC: 1\n",
      "AAAAACGTACGATCGGGGGCC: 1\n",
      "TGGCTCGTCAGTCAGTAATGC: 1\n",
      "AGCTACGATCGATATAACGCG: 1\n",
      "TCTGCACTAGTCACTAATCGA: 1\n",
      "TTGCGCGCATTACTGACTGAC: 1\n",
      "TTACTGACTGACGAGCCATAC: 1\n",
      "ACTAGCTACGATCGATATAAC: 2\n",
      "TCAGTAATGCGCGCAAAAAAA: 1\n",
      "TGCTGACCCCGTGTAGTGTGC: 1\n",
      "ACTAGCTACGAGCTCGCATCG: 1\n",
      "CGCATTACTGACTGACGAGCC: 1\n",
      "CTAGCACACTACACGGGGTCA: 1\n",
      "ATATGGGCGCGGCGCCCCCCC: 1\n",
      "ACGATGCGAGCTCGTAGCTAG: 1\n",
      "TATGGGCGCGGCGCCCCCCCC: 1\n",
      "ACGATCGATATAACGCGCGCG: 1\n",
      "ATACGTATGGCTCGTCAGTCA: 1\n",
      "ACGAGCTCGCATCGTACGTAC: 1\n",
      "ATAAAAAACTAGCTACGATCG: 1\n",
      "TAAAAAACTAGCTACGATCGA: 1\n",
      "AAACTAGCTACGATCGATATA: 1\n",
      "CTAGCTACGATCGATATAACG: 1\n",
      "AAAACGTACGATCGGGGGCCC: 1\n",
      "TATATATGGGCGCGGCGCCCC: 1\n",
      "AAAACTAGCTACGATCGATAT: 1\n",
      "ACATAAAAAACTAGCTACGAT: 1\n",
      "TTTTTTGCGCGCATTACTGAC: 1\n",
      "GACCCCGTGTAGTGTGCTAGC: 1\n",
      "TCAGTCAGTAATGCGCGCAAA: 1\n",
      "AGTCAGTAATGCGCGCAAAAA: 1\n",
      "AAAAAAAAACGTACGATCGGG: 1\n",
      "CCCGTGTAGTGTGCTAGCTAG: 1\n"
     ]
    }
   ],
   "source": [
    "for kmer, count in KF_iter(kf):\n",
    "    print(f\"{kmer}: {count}\")"
   ]
  }
 ],
 "metadata": {
  "kernelspec": {
   "display_name": "Python 3",
   "language": "python",
   "name": "python3"
  },
  "language_info": {
   "codemirror_mode": {
    "name": "ipython",
    "version": 3
   },
   "file_extension": ".py",
   "mimetype": "text/x-python",
   "name": "python",
   "nbconvert_exporter": "python",
   "pygments_lexer": "ipython3",
   "version": "3.9.1"
  }
 },
 "nbformat": 4,
 "nbformat_minor": 5
}
