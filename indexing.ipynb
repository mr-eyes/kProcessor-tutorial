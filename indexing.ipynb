{
 "cells": [
  {
   "cell_type": "markdown",
   "id": "unavailable-fields",
   "metadata": {},
   "source": [
    "## **Indexing with different flavors**"
   ]
  },
  {
   "cell_type": "code",
   "execution_count": null,
   "id": "lasting-casting",
   "metadata": {},
   "outputs": [],
   "source": [
    "import kProcessor as kp\n",
    "from helper_functions import *"
   ]
  },
  {
   "cell_type": "markdown",
   "id": "faced-syndication",
   "metadata": {},
   "source": [
    "#### **1. Setting general parameters**"
   ]
  },
  {
   "cell_type": "code",
   "execution_count": null,
   "id": "coastal-crash",
   "metadata": {},
   "outputs": [],
   "source": [
    "fasta_file = \"data/seqs.fa\"\n",
    "transcripts_names = \"data/transcripts.groups\"\n",
    "genes_names = \"data/genes.groups\"\n",
    "genomes_names = \"data/genomes.groups\"\n",
    "\n",
    "chunk_size = 10\n",
    "kSize = 21\n",
    "kmers_mode = \"kmers\""
   ]
  },
  {
   "cell_type": "markdown",
   "id": "sudden-communist",
   "metadata": {},
   "source": [
    "---"
   ]
  },
  {
   "cell_type": "markdown",
   "id": "minimal-technical",
   "metadata": {},
   "source": [
    "#### 1. **Index by transcripts**"
   ]
  },
  {
   "cell_type": "code",
   "execution_count": null,
   "id": "endangered-allocation",
   "metadata": {},
   "outputs": [],
   "source": [
    "%%bash\n",
    "echo -e \"tr_header\\ttr_group\\n---------------------------\"\n",
    "cat data/transcripts.groups"
   ]
  },
  {
   "cell_type": "code",
   "execution_count": null,
   "id": "employed-viewer",
   "metadata": {},
   "outputs": [],
   "source": [
    "#1. Create an empty kDataFrame\n",
    "kf_transcripts = kp.kDataFrameMQF(kSize)\n",
    "#2. Perform Indexing\n",
    "ckf_transcripts = kp.index(kf_transcripts, {\"mode\" : 1}, fasta_file, chunk_size, transcripts_names)"
   ]
  },
  {
   "cell_type": "markdown",
   "id": "lonely-europe",
   "metadata": {},
   "source": [
    "---"
   ]
  },
  {
   "cell_type": "markdown",
   "id": "theoretical-timothy",
   "metadata": {},
   "source": [
    "#### **2. Index by genes** "
   ]
  },
  {
   "cell_type": "code",
   "execution_count": null,
   "id": "solved-requirement",
   "metadata": {},
   "outputs": [],
   "source": [
    "%%bash\n",
    "echo -e \"tr_header\\ttr_group\\n---------------------------\"\n",
    "cat data/genes.groups"
   ]
  },
  {
   "cell_type": "code",
   "execution_count": null,
   "id": "freelance-technician",
   "metadata": {},
   "outputs": [],
   "source": [
    "kf_genes = kp.kDataFrameMQF(kSize)\n",
    "ckf_genes = kp.index(kf_genes, {\"mode\" : 1}, fasta_file, chunk_size, genes_names)"
   ]
  },
  {
   "cell_type": "markdown",
   "id": "taken-business",
   "metadata": {},
   "source": [
    "---"
   ]
  },
  {
   "cell_type": "markdown",
   "id": "emerging-privacy",
   "metadata": {},
   "source": [
    "#### **3. Index by genomes**"
   ]
  },
  {
   "cell_type": "code",
   "execution_count": null,
   "id": "powered-christmas",
   "metadata": {},
   "outputs": [],
   "source": [
    "%%bash\n",
    "echo -e \"tr_header\\ttr_group\\n---------------------------\"\n",
    "cat data/genomes.groups"
   ]
  },
  {
   "cell_type": "code",
   "execution_count": null,
   "id": "russian-salem",
   "metadata": {},
   "outputs": [],
   "source": [
    "kf_genomes = kp.kDataFrameMQF(kSize)\n",
    "ckf_genomes = kp.index(kf_genomes, {\"mode\" : 1}, fasta_file, chunk_size, genomes_names)"
   ]
  },
  {
   "cell_type": "markdown",
   "id": "numerical-twelve",
   "metadata": {},
   "source": [
    "---"
   ]
  },
  {
   "cell_type": "markdown",
   "id": "cardiac-denver",
   "metadata": {},
   "source": [
    "## **View Results**"
   ]
  },
  {
   "cell_type": "markdown",
   "id": "gothic-pharmaceutical",
   "metadata": {},
   "source": [
    "### **Indexed by transcripts**"
   ]
  },
  {
   "cell_type": "code",
   "execution_count": null,
   "id": "spare-pilot",
   "metadata": {},
   "outputs": [],
   "source": [
    "for kmer, sources in KF_iter(ckf_transcripts):\n",
    "    print(f\"{kmer}: {sources}\")"
   ]
  },
  {
   "cell_type": "markdown",
   "id": "consistent-wisconsin",
   "metadata": {},
   "source": [
    "---"
   ]
  },
  {
   "cell_type": "markdown",
   "id": "korean-exhibition",
   "metadata": {},
   "source": [
    "### **Indexed by Genomes**"
   ]
  },
  {
   "cell_type": "code",
   "execution_count": null,
   "id": "raised-palmer",
   "metadata": {},
   "outputs": [],
   "source": [
    "for kmer, sources in KF_iter(ckf_genomes):\n",
    "    print(f\"{kmer}: {sources}\")"
   ]
  }
 ],
 "metadata": {
  "kernelspec": {
   "display_name": "Python 3",
   "language": "python",
   "name": "python3"
  },
  "language_info": {
   "codemirror_mode": {
    "name": "ipython",
    "version": 3
   },
   "file_extension": ".py",
   "mimetype": "text/x-python",
   "name": "python",
   "nbconvert_exporter": "python",
   "pygments_lexer": "ipython3",
   "version": "3.9.1"
  }
 },
 "nbformat": 4,
 "nbformat_minor": 5
}
