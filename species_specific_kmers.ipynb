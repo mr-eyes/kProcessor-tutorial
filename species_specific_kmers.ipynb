{
 "cells": [
  {
   "cell_type": "code",
   "execution_count": null,
   "id": "superb-prerequisite",
   "metadata": {},
   "outputs": [],
   "source": [
    "import kProcessor as kp"
   ]
  },
  {
   "cell_type": "code",
   "execution_count": null,
   "id": "alpine-scratch",
   "metadata": {},
   "outputs": [],
   "source": [
    "%%bash\n",
    "cat data/bacterial_genoms/*fasta > bacterial_genomes.fa"
   ]
  },
  {
   "cell_type": "code",
   "execution_count": null,
   "id": "pleased-aspect",
   "metadata": {},
   "outputs": [],
   "source": [
    "%%bash\n",
    "grep \">\" bacterial_genomes.fa | cut -c2- |  awk '{print $0\"\\t\"$0}' >  bacterial_genomes.fa.names"
   ]
  },
  {
   "cell_type": "code",
   "execution_count": null,
   "id": "boolean-tournament",
   "metadata": {},
   "outputs": [],
   "source": []
  }
 ],
 "metadata": {
  "kernelspec": {
   "display_name": "Python 3",
   "language": "python",
   "name": "python3"
  },
  "language_info": {
   "codemirror_mode": {
    "name": "ipython",
    "version": 3
   },
   "file_extension": ".py",
   "mimetype": "text/x-python",
   "name": "python",
   "nbconvert_exporter": "python",
   "pygments_lexer": "ipython3",
   "version": "3.9.1"
  }
 },
 "nbformat": 4,
 "nbformat_minor": 5
}
