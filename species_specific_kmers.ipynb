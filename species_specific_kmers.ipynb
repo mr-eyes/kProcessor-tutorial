{
 "cells": [
  {
   "cell_type": "markdown",
   "id": "confused-joining",
   "metadata": {},
   "source": [
    "# **USECASE: Extracting Species Specific Kmers**"
   ]
  },
  {
   "cell_type": "code",
   "execution_count": null,
   "id": "auburn-knock",
   "metadata": {},
   "outputs": [],
   "source": [
    "import kProcessor as kp"
   ]
  },
  {
   "cell_type": "code",
   "execution_count": null,
   "id": "handmade-latest",
   "metadata": {},
   "outputs": [],
   "source": [
    "%%bash\n",
    "cat data/bacterial_genoms/*fasta > bacterial_genomes.fa"
   ]
  },
  {
   "cell_type": "code",
   "execution_count": null,
   "id": "scientific-chair",
   "metadata": {},
   "outputs": [],
   "source": [
    "%%bash\n",
    "grep \">\" bacterial_genomes.fa | cut -c2- |  awk '{print $0\"\\t\"$0}' >  bacterial_genomes.fa.names"
   ]
  },
  {
   "cell_type": "code",
   "execution_count": null,
   "id": "elect-direction",
   "metadata": {},
   "outputs": [],
   "source": []
  }
 ],
 "metadata": {
  "kernelspec": {
   "display_name": "Python 3",
   "language": "python",
   "name": "python3"
  },
  "language_info": {
   "codemirror_mode": {
    "name": "ipython",
    "version": 3
   },
   "file_extension": ".py",
   "mimetype": "text/x-python",
   "name": "python",
   "nbconvert_exporter": "python",
   "pygments_lexer": "ipython3",
   "version": "3.9.1"
  }
 },
 "nbformat": 4,
 "nbformat_minor": 5
}
