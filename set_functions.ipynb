{
 "cells": [
  {
   "cell_type": "code",
   "execution_count": null,
   "id": "curious-green",
   "metadata": {},
   "outputs": [],
   "source": [
    "import kProcessor as kp\n",
    "from helper_functions import *"
   ]
  },
  {
   "cell_type": "markdown",
   "id": "removable-inquiry",
   "metadata": {},
   "source": [
    "# Load kDataFrames from files"
   ]
  },
  {
   "cell_type": "code",
   "execution_count": null,
   "id": "international-roots",
   "metadata": {},
   "outputs": [],
   "source": [
    "kSize = 21\n",
    "chunk_size = 10\n",
    "\n",
    "kf1 = kp.kDataFrameMQF(kSize)\n",
    "kf2 = kp.kDataFrameMQF(kSize)\n",
    "\n",
    "kf1.insert(\"AAAAAAAAAAAAAAAAAAAAC\")\n",
    "kf2.insert(\"AAAAAAAAAAAAAAAAAAAAC\")\n",
    "\n",
    "kf1.insert(\"AAAAAAAAAAAAAAAAAAAAA\")\n",
    "kf2.insert(\"AAAAAAAAAAAAAAAAAAAAT\")"
   ]
  },
  {
   "cell_type": "code",
   "execution_count": null,
   "id": "massive-optics",
   "metadata": {},
   "outputs": [],
   "source": [
    "kfs = [kf1, kf2]\n",
    "kf_intersect = kp.kFrameIntersect(kfs)\n",
    "kf_union = kp.kFrameUnion(kfs)\n",
    "kf_diff = kp.kFrameDiff(kfs)"
   ]
  },
  {
   "cell_type": "code",
   "execution_count": null,
   "id": "square-girlfriend",
   "metadata": {},
   "outputs": [],
   "source": [
    "print(\"Intersection\")\n",
    "for kmer in KF_iter(kf_intersect):\n",
    "    print(kmer)\n",
    "    \n",
    "print(\"Union\")\n",
    "for kmer in KF_iter(kf_union):\n",
    "    print(kmer)\n",
    "\n",
    "print(\"Diff\")\n",
    "for kmer in KF_iter(kf_diff):\n",
    "    print(kmer)"
   ]
  }
 ],
 "metadata": {
  "kernelspec": {
   "display_name": "Python 3",
   "language": "python",
   "name": "python3"
  },
  "language_info": {
   "codemirror_mode": {
    "name": "ipython",
    "version": 3
   },
   "file_extension": ".py",
   "mimetype": "text/x-python",
   "name": "python",
   "nbconvert_exporter": "python",
   "pygments_lexer": "ipython3",
   "version": "3.9.1"
  }
 },
 "nbformat": 4,
 "nbformat_minor": 5
}
